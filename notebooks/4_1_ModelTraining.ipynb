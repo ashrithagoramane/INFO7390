{
 "cells": [
  {
   "cell_type": "markdown",
   "metadata": {},
   "source": [
    "# Step 4: Model Training - BaselineModel"
   ]
  },
  {
   "cell_type": "code",
   "execution_count": 1,
   "metadata": {},
   "outputs": [],
   "source": [
    "import pandas as pd\n",
    "from sklearn.model_selection import train_test_split\n",
    "from sklearn.linear_model import LinearRegression\n",
    "from sklearn.linear_model import Ridge, Lasso, ElasticNet\n",
    "from sklearn.preprocessing import PolynomialFeatures\n",
    "from sklearn.svm import SVR\n",
    "from sklearn.metrics import mean_squared_error, r2_score\n"
   ]
  },
  {
   "cell_type": "code",
   "execution_count": 2,
   "metadata": {},
   "outputs": [
    {
     "data": {
      "text/html": [
       "<div>\n",
       "<style scoped>\n",
       "    .dataframe tbody tr th:only-of-type {\n",
       "        vertical-align: middle;\n",
       "    }\n",
       "\n",
       "    .dataframe tbody tr th {\n",
       "        vertical-align: top;\n",
       "    }\n",
       "\n",
       "    .dataframe thead th {\n",
       "        text-align: right;\n",
       "    }\n",
       "</style>\n",
       "<table border=\"1\" class=\"dataframe\">\n",
       "  <thead>\n",
       "    <tr style=\"text-align: right;\">\n",
       "      <th></th>\n",
       "      <th>business_id</th>\n",
       "      <th>name</th>\n",
       "      <th>address</th>\n",
       "      <th>city</th>\n",
       "      <th>state</th>\n",
       "      <th>postal_code</th>\n",
       "      <th>latitude</th>\n",
       "      <th>longitude</th>\n",
       "      <th>stars</th>\n",
       "      <th>review_count</th>\n",
       "      <th>...</th>\n",
       "      <th>Fast Food</th>\n",
       "      <th>BusinessAcceptsCreditCards</th>\n",
       "      <th>BikeParking</th>\n",
       "      <th>RestaurantsPriceRange2</th>\n",
       "      <th>BusinessParking</th>\n",
       "      <th>garage</th>\n",
       "      <th>street</th>\n",
       "      <th>validated</th>\n",
       "      <th>lot</th>\n",
       "      <th>valet</th>\n",
       "    </tr>\n",
       "  </thead>\n",
       "  <tbody>\n",
       "    <tr>\n",
       "      <th>0</th>\n",
       "      <td>tUFrWirKiKi_TAnsVWINQQ</td>\n",
       "      <td>Target</td>\n",
       "      <td>5255 E Broadway Blvd</td>\n",
       "      <td>Tucson</td>\n",
       "      <td>AZ</td>\n",
       "      <td>85711</td>\n",
       "      <td>32.223236</td>\n",
       "      <td>-110.880452</td>\n",
       "      <td>3.5</td>\n",
       "      <td>22</td>\n",
       "      <td>...</td>\n",
       "      <td>0</td>\n",
       "      <td>True</td>\n",
       "      <td>True</td>\n",
       "      <td>2</td>\n",
       "      <td>{'garage': False, 'street': False, 'validated'...</td>\n",
       "      <td>False</td>\n",
       "      <td>False</td>\n",
       "      <td>False</td>\n",
       "      <td>True</td>\n",
       "      <td>False</td>\n",
       "    </tr>\n",
       "    <tr>\n",
       "      <th>1</th>\n",
       "      <td>MTSW4McQd7CbVtyjqoe9mw</td>\n",
       "      <td>St Honore Pastries</td>\n",
       "      <td>935 Race St</td>\n",
       "      <td>Philadelphia</td>\n",
       "      <td>PA</td>\n",
       "      <td>19107</td>\n",
       "      <td>39.955505</td>\n",
       "      <td>-75.155564</td>\n",
       "      <td>4.0</td>\n",
       "      <td>80</td>\n",
       "      <td>...</td>\n",
       "      <td>0</td>\n",
       "      <td>False</td>\n",
       "      <td>True</td>\n",
       "      <td>1</td>\n",
       "      <td>{'garage': False, 'street': True, 'validated':...</td>\n",
       "      <td>False</td>\n",
       "      <td>True</td>\n",
       "      <td>False</td>\n",
       "      <td>False</td>\n",
       "      <td>False</td>\n",
       "    </tr>\n",
       "    <tr>\n",
       "      <th>2</th>\n",
       "      <td>n_0UpQx1hsNbnPUSlodU8w</td>\n",
       "      <td>Famous Footwear</td>\n",
       "      <td>8522 Eager Road, Dierbergs Brentwood Point</td>\n",
       "      <td>Brentwood</td>\n",
       "      <td>MO</td>\n",
       "      <td>63144</td>\n",
       "      <td>38.627695</td>\n",
       "      <td>-90.340465</td>\n",
       "      <td>2.5</td>\n",
       "      <td>13</td>\n",
       "      <td>...</td>\n",
       "      <td>0</td>\n",
       "      <td>True</td>\n",
       "      <td>True</td>\n",
       "      <td>2</td>\n",
       "      <td>{'garage': False, 'street': False, 'validated'...</td>\n",
       "      <td>False</td>\n",
       "      <td>False</td>\n",
       "      <td>False</td>\n",
       "      <td>True</td>\n",
       "      <td>False</td>\n",
       "    </tr>\n",
       "    <tr>\n",
       "      <th>3</th>\n",
       "      <td>UJsufbvfyfONHeWdvAHKjA</td>\n",
       "      <td>Marshalls</td>\n",
       "      <td>21705 Village Lakes Sc Dr</td>\n",
       "      <td>Land O' Lakes</td>\n",
       "      <td>FL</td>\n",
       "      <td>34639</td>\n",
       "      <td>28.190459</td>\n",
       "      <td>-82.457380</td>\n",
       "      <td>3.5</td>\n",
       "      <td>6</td>\n",
       "      <td>...</td>\n",
       "      <td>0</td>\n",
       "      <td>True</td>\n",
       "      <td>True</td>\n",
       "      <td>2</td>\n",
       "      <td>{'garage': False, 'street': False, 'validated'...</td>\n",
       "      <td>False</td>\n",
       "      <td>False</td>\n",
       "      <td>False</td>\n",
       "      <td>False</td>\n",
       "      <td>False</td>\n",
       "    </tr>\n",
       "    <tr>\n",
       "      <th>4</th>\n",
       "      <td>0bPLkL0QhhPO5kt1_EXmNQ</td>\n",
       "      <td>Zio's Italian Market</td>\n",
       "      <td>2575 E Bay Dr</td>\n",
       "      <td>Largo</td>\n",
       "      <td>FL</td>\n",
       "      <td>33771</td>\n",
       "      <td>27.916116</td>\n",
       "      <td>-82.760461</td>\n",
       "      <td>4.5</td>\n",
       "      <td>100</td>\n",
       "      <td>...</td>\n",
       "      <td>0</td>\n",
       "      <td>True</td>\n",
       "      <td>True</td>\n",
       "      <td>1</td>\n",
       "      <td>{'garage': False, 'street': False, 'validated'...</td>\n",
       "      <td>False</td>\n",
       "      <td>False</td>\n",
       "      <td>False</td>\n",
       "      <td>True</td>\n",
       "      <td>False</td>\n",
       "    </tr>\n",
       "  </tbody>\n",
       "</table>\n",
       "<p>5 rows × 41 columns</p>\n",
       "</div>"
      ],
      "text/plain": [
       "              business_id                  name  \\\n",
       "0  tUFrWirKiKi_TAnsVWINQQ                Target   \n",
       "1  MTSW4McQd7CbVtyjqoe9mw    St Honore Pastries   \n",
       "2  n_0UpQx1hsNbnPUSlodU8w       Famous Footwear   \n",
       "3  UJsufbvfyfONHeWdvAHKjA             Marshalls   \n",
       "4  0bPLkL0QhhPO5kt1_EXmNQ  Zio's Italian Market   \n",
       "\n",
       "                                      address           city state  \\\n",
       "0                        5255 E Broadway Blvd         Tucson    AZ   \n",
       "1                                 935 Race St   Philadelphia    PA   \n",
       "2  8522 Eager Road, Dierbergs Brentwood Point      Brentwood    MO   \n",
       "3                   21705 Village Lakes Sc Dr  Land O' Lakes    FL   \n",
       "4                               2575 E Bay Dr          Largo    FL   \n",
       "\n",
       "  postal_code   latitude   longitude  stars  review_count  ...  Fast Food  \\\n",
       "0       85711  32.223236 -110.880452    3.5            22  ...          0   \n",
       "1       19107  39.955505  -75.155564    4.0            80  ...          0   \n",
       "2       63144  38.627695  -90.340465    2.5            13  ...          0   \n",
       "3       34639  28.190459  -82.457380    3.5             6  ...          0   \n",
       "4       33771  27.916116  -82.760461    4.5           100  ...          0   \n",
       "\n",
       "  BusinessAcceptsCreditCards BikeParking RestaurantsPriceRange2  \\\n",
       "0                       True        True                      2   \n",
       "1                      False        True                      1   \n",
       "2                       True        True                      2   \n",
       "3                       True        True                      2   \n",
       "4                       True        True                      1   \n",
       "\n",
       "                                     BusinessParking  garage  street  \\\n",
       "0  {'garage': False, 'street': False, 'validated'...   False   False   \n",
       "1  {'garage': False, 'street': True, 'validated':...   False    True   \n",
       "2  {'garage': False, 'street': False, 'validated'...   False   False   \n",
       "3  {'garage': False, 'street': False, 'validated'...   False   False   \n",
       "4  {'garage': False, 'street': False, 'validated'...   False   False   \n",
       "\n",
       "   validated    lot  valet  \n",
       "0      False   True  False  \n",
       "1      False  False  False  \n",
       "2      False   True  False  \n",
       "3      False  False  False  \n",
       "4      False   True  False  \n",
       "\n",
       "[5 rows x 41 columns]"
      ]
     },
     "execution_count": 2,
     "metadata": {},
     "output_type": "execute_result"
    }
   ],
   "source": [
    "# Load data\n",
    "yelp_df_business = pd.read_csv('../data/processed_data/train_data_business.csv')\n",
    "yelp_df_business.head()"
   ]
  },
  {
   "cell_type": "code",
   "execution_count": 3,
   "metadata": {},
   "outputs": [
    {
     "name": "stdout",
     "output_type": "stream",
     "text": [
      "Index(['business_id', 'name', 'address', 'city', 'state', 'postal_code',\n",
      "       'latitude', 'longitude', 'stars', 'review_count', 'is_open',\n",
      "       'attributes', 'categories', 'hours', 'composite_rating',\n",
      "       'operational_hours', 'Restaurants', 'Food', 'Shopping', 'Beauty & Spas',\n",
      "       'Home Services', 'Nightlife', 'Bars', 'Health & Medical',\n",
      "       'Local Services', 'Event Planning & Services', 'Automotive',\n",
      "       'Sandwiches', 'American (Traditional)', 'Coffee & Tea', 'Pizza',\n",
      "       'Fast Food', 'BusinessAcceptsCreditCards', 'BikeParking',\n",
      "       'RestaurantsPriceRange2', 'BusinessParking', 'garage', 'street',\n",
      "       'validated', 'lot', 'valet'],\n",
      "      dtype='object')\n"
     ]
    }
   ],
   "source": [
    "# Print all column names to check what's available\n",
    "print(yelp_df_business.columns)\n"
   ]
  },
  {
   "cell_type": "code",
   "execution_count": 26,
   "metadata": {},
   "outputs": [],
   "source": [
    "# Selecting all numerical columns as predictors\n",
    "X = yelp_df_business.select_dtypes(include=['float64', 'int64'])"
   ]
  },
  {
   "cell_type": "code",
   "execution_count": 27,
   "metadata": {},
   "outputs": [],
   "source": [
    "columns_to_drop = [\"stars\", \"composite_rating\", \"review_count\"]\n"
   ]
  },
  {
   "cell_type": "code",
   "execution_count": 28,
   "metadata": {},
   "outputs": [],
   "source": [
    "# Removing the 'stars' column from the predictors\n",
    "X = X.drop(columns=columns_to_drop)\n",
    "y = yelp_df_business.composite_rating"
   ]
  },
  {
   "cell_type": "code",
   "execution_count": 29,
   "metadata": {},
   "outputs": [],
   "source": [
    "# Splitting the data into training and testing sets\n",
    "X_train, X_test, y_train, y_test = train_test_split(X, y, test_size=0.2, random_state=0)"
   ]
  },
  {
   "cell_type": "code",
   "execution_count": 30,
   "metadata": {},
   "outputs": [],
   "source": [
    "# Creating the linear regression model\n",
    "model = LinearRegression()\n",
    "\n",
    "# Training the model on the training data\n",
    "model.fit(X_train, y_train)\n",
    "\n",
    "# Making predictions on the test data\n",
    "y_pred = model.predict(X_test)"
   ]
  },
  {
   "cell_type": "code",
   "execution_count": 31,
   "metadata": {},
   "outputs": [
    {
     "name": "stdout",
     "output_type": "stream",
     "text": [
      "Mean Squared Error: 21.83006440832407\n",
      "R^2 Score: 0.30372394591879626\n"
     ]
    }
   ],
   "source": [
    "# Evaluating the model\n",
    "mse = mean_squared_error(y_test, y_pred)\n",
    "r2 = r2_score(y_test, y_pred)\n",
    "\n",
    "print(f\"Mean Squared Error: {mse}\")\n",
    "print(f\"R^2 Score: {r2}\")"
   ]
  },
  {
   "cell_type": "code",
   "execution_count": 14,
   "metadata": {},
   "outputs": [
    {
     "name": "stdout",
     "output_type": "stream",
     "text": [
      "\n",
      "Ridge Regression:\n",
      "Mean Squared Error: 0.5331043522368498\n",
      "R^2 Score: 0.1787272138397682\n"
     ]
    }
   ],
   "source": [
    "# Ridge Regression\n",
    "ridge = Ridge(alpha=1.0)\n",
    "ridge.fit(X_train, y_train)\n",
    "y_ridge_pred = ridge.predict(X_test)\n",
    "\n",
    "mse_ridge = mean_squared_error(y_test, y_ridge_pred)\n",
    "r2_ridge = r2_score(y_test, y_ridge_pred)\n",
    "\n",
    "print(\"\\nRidge Regression:\")\n",
    "print(f\"Mean Squared Error: {mse_ridge}\")\n",
    "print(f\"R^2 Score: {r2_ridge}\")\n"
   ]
  },
  {
   "cell_type": "code",
   "execution_count": 15,
   "metadata": {},
   "outputs": [
    {
     "name": "stdout",
     "output_type": "stream",
     "text": [
      "\n",
      "Lasso Regression:\n",
      "Mean Squared Error: 0.5859817802804005\n",
      "R^2 Score: 0.09726700352240769\n"
     ]
    }
   ],
   "source": [
    "# Lasso Regression\n",
    "lasso = Lasso(alpha=1.0)\n",
    "lasso.fit(X_train, y_train)\n",
    "y_lasso_pred = lasso.predict(X_test)\n",
    "\n",
    "mse_lasso = mean_squared_error(y_test, y_lasso_pred)\n",
    "r2_lasso = r2_score(y_test, y_lasso_pred)\n",
    "\n",
    "print(\"\\nLasso Regression:\")\n",
    "print(f\"Mean Squared Error: {mse_lasso}\")\n",
    "print(f\"R^2 Score: {r2_lasso}\")\n"
   ]
  },
  {
   "cell_type": "code",
   "execution_count": 16,
   "metadata": {},
   "outputs": [
    {
     "name": "stdout",
     "output_type": "stream",
     "text": [
      "\n",
      "ElasticNet:\n",
      "Mean Squared Error: 0.5848522525412345\n",
      "R^2 Score: 0.09900709510015926\n"
     ]
    }
   ],
   "source": [
    "# ElasticNet\n",
    "elastic_net = ElasticNet(alpha=1.0, l1_ratio=0.5)\n",
    "elastic_net.fit(X_train, y_train)\n",
    "y_elastic_pred = elastic_net.predict(X_test)\n",
    "\n",
    "mse_elastic = mean_squared_error(y_test, y_elastic_pred)\n",
    "r2_elastic = r2_score(y_test, y_elastic_pred)\n",
    "\n",
    "print(\"\\nElasticNet:\")\n",
    "print(f\"Mean Squared Error: {mse_elastic}\")\n",
    "print(f\"R^2 Score: {r2_elastic}\")\n"
   ]
  },
  {
   "cell_type": "code",
   "execution_count": 17,
   "metadata": {},
   "outputs": [
    {
     "name": "stdout",
     "output_type": "stream",
     "text": [
      "\n",
      "Support Vector Regression:\n",
      "Mean Squared Error: 0.5095049267756051\n",
      "R^2 Score: 0.2150832589911802\n"
     ]
    }
   ],
   "source": [
    "# Support Vector Regression\n",
    "svr = SVR(kernel='rbf')\n",
    "svr.fit(X_train, y_train)\n",
    "y_svr_pred = svr.predict(X_test)\n",
    "\n",
    "mse_svr = mean_squared_error(y_test, y_svr_pred)\n",
    "r2_svr = r2_score(y_test, y_svr_pred)\n",
    "\n",
    "print(\"\\nSupport Vector Regression:\")\n",
    "print(f\"Mean Squared Error: {mse_svr}\")\n",
    "print(f\"R^2 Score: {r2_svr}\")"
   ]
  }
 ],
 "metadata": {
  "kernelspec": {
   "display_name": "base",
   "language": "python",
   "name": "python3"
  },
  "language_info": {
   "codemirror_mode": {
    "name": "ipython",
    "version": 3
   },
   "file_extension": ".py",
   "mimetype": "text/x-python",
   "name": "python",
   "nbconvert_exporter": "python",
   "pygments_lexer": "ipython3",
   "version": "3.12.2"
  }
 },
 "nbformat": 4,
 "nbformat_minor": 2
}
